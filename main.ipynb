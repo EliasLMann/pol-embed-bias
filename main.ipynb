{
 "cells": [
  {
   "attachments": {},
   "cell_type": "markdown",
   "id": "a2493994",
   "metadata": {},
   "source": [
    "# Analyzing Political Bias in ConceptNet Numberbatch and GloVe 840B Embeddings"
   ]
  },
  {
   "attachments": {},
   "cell_type": "markdown",
   "id": "5e0c5077",
   "metadata": {},
   "source": [
    "By Elias Mann and Mark Brubaker"
   ]
  },
  {
   "attachments": {},
   "cell_type": "markdown",
   "id": "f6e5163c",
   "metadata": {},
   "source": [
    "# Introduction"
   ]
  },
  {
   "attachments": {},
   "cell_type": "markdown",
   "id": "8661fd8f",
   "metadata": {},
   "source": [
    "In this notebook, we will analyze the political bias of two word embeddings: ConceptNet Numberbatch and GloVe 840B. This is a relevent topic as tthe popular word embeddings are widely used in large language models and other NLP tasks. As of writing this notebook (February 2023) the use large language models (LLMs) has just reached the mainstream. With the OpenAI's release of ChatGPT and its viral reception, people are using large language models more than ever. Bing has incorporated a version of ChatGPT into their search engine and a race to deploy LLMs at scale as begun, with competitors like Microsoft, Google, Facebook and Amazon all working on their own versions. <br><br>\n",
    "While these LLMs have shown to be impressive tools for tasks from text sumarizations, song writing and even code generation, these models do come with their caveats. As  detailed in the paper [*On the Dangers of Stochastic Parrots: Can Language Models Be Too Big? 🦜*](https://dl.acm.org/doi/pdf/10.1145/3442188.3445922), large language models are prone to bias which can have significant repercussions in perpetuating these biases depending on their use cases. For example, many are using LLMs in place of search engines to ask factual questions. While there are many issues at play here, one is that political bias can influence the nature of the answer. In a text summarization use case, the model can alter the political leaning of the originial text, or insert one that was not there in the first place. While political beleifs are constantly changing, the embeddings of these models cannot be changed as easily. This means that the bias of these models will be perpetuated for years to come and will no longer represent political leaning as tides shift. Additionally, perpetuating bias at scale leads to more polarity among the populus.<br><br>\n",
    "This investigation is relevant to other researchers and practitioners as it will help them to better understand the political bias of these models. This information can also help them understand which use cases are appropriate for these embeddinigs. Our finidings may also lead researchers and practitioinaers to re-evaluate their existinig models that use these embeddings and consider mitigatiioni techniques,or alternatives. <br>"
   ]
  },
  {
   "attachments": {},
   "cell_type": "markdown",
   "id": "64185f42",
   "metadata": {},
   "source": [
    "## Research Question"
   ]
  },
  {
   "attachments": {},
   "cell_type": "markdown",
   "id": "320741b8",
   "metadata": {},
   "source": [
    "Does political bias exist in ConceptNet Numberbatch and GloVe 840B embeddings? If so, to what extent does this bias exist? How do these embeddings compare to each other in terms of political bias?<br><br>\n",
    "In invstigating these questions, when we say \"political bias\" we are referring to the political leaning in the context of the United States. We are not referring to the political leaning of the embeddings themselves. For example, we are not saying that the embeddings are \"left-leaning\" or \"right-leaning\" but rather that the embeddings are biased towards a certain political leaning.\n"
   ]
  },
  {
   "attachments": {},
   "cell_type": "markdown",
   "id": "9a2cefa8",
   "metadata": {},
   "source": [
    "### Methods"
   ]
  },
  {
   "attachments": {},
   "cell_type": "markdown",
   "id": "7f0348fb",
   "metadata": {},
   "source": [
    "In order to conduct this investigation, we will train a classifier on news headlines from highly polarized news sources. We will train an identical model on the same data, but one with ConceptNet Numberbatch embeddings and one with GloVe 840B embeddings. We will then use this classifier to assign political leanings to headlines from a new source that is neither left-leaning nor right-leaning. Next, we will pcil 100 headlines that we have decided are apolitcal. Finally, we will prediict the political leanings of these headlines using both models and compare the results. If the embeddings are biased, we would expect the model with the embeddings to be biased as well. <br><br>\n",
    "\n",
    "In order to decide which news sources to use, we refer to the paper [*Auditing Partisan Audience Bias within Google Search*](https://dl.acm.org/doi/pdf/10.1145/3274417) and rely on their research in determine bias scores for different news sources. We observed which of the news sources with bias scores existed in our [news headlines dataset](https://www.kaggle.com/datasets/snapcrack/all-the-news). From these news sources we decided to use Vox as our left leaning source, Fox News as our right leaning source, and Business Insider as our neutral source. In the paper mentioned above, the authours assigned bias scores on a scale of -1 to 1, with -1 being the most left leaning and 1 being the most right leaning. The scores for the news sources we chose are as follows: \n",
    "- Vox: -0.5546\n",
    "- Fox News: 0.6079\n",
    "- Business Insider: -0.0373.\n",
    "\n",
    "We chose these sources for abundance of data, similar bias score magnitudes in their respective affiliations, proximity to unbiased, and the fact that they are all promninent news sources."
   ]
  },
  {
   "attachments": {},
   "cell_type": "markdown",
   "id": "1fcfbcbf",
   "metadata": {},
   "source": [
    "### Hypothesis\n",
    "\n",
    "We hypothesize that our embeddings do indeed contain bias as it is generally very difficult to create unbiased data. We also hypothesize that the bias will be more pronounced GloVe 840B embeddings as they are trained on a larger corpus of data, which is based on a large portion of text that exists on the internet. Since ConceptNet is curated by humans with bias mitigation in mind, we believe that it will contain less political bias. <br><br>"
   ]
  },
  {
   "attachments": {},
   "cell_type": "markdown",
   "id": "0fa17202",
   "metadata": {},
   "source": [
    "## Comparing the Two Methods\n",
    "\n",
    "In this project we will be comparing two identical models trained on identical data, one with ConcepNet Numberbatch as a word embedding, and the other with GloVe 840b as a word embedding on the other. In order to compare the two models, we will predict the polarity of headlines from a new source that is neither left-leaning nor right-leaning. And we will also predict the polarity of \"expert\" (us) chosen headlines that we deemed to be completely neutral in political polarity.<br><br>\n",
    "The polarity of the models are independant from one another. In our methods, predictions closer to 0.5 are considered neutral. The model tthat deviates most from 0.5 is considered to be the most biased. However we beleive that the meaningful analysis of this study will not come from comparing the two models to each other, but it will come from independantly comparing each model to the 0.5 baseline. Conclusions on whether one embedding is more biased than the other would be secondary to the conclusions on whether the embeddings are independantly biased.<br><br>\n",
    "Some limitaions of our analysis is that it could be argue that are models are simply predicting if Business Insider headlines, are more similar to those of Vox or Fox News. This is why we are hand-picking unbiaed headlines to compare to the models. Aditionally, we are training our models to classify healdines as left leaning or right leaning. Since we do not train on neutral data, accuracy may be lower for headlines that should be classified as neutral. We did not include Business Insider headlines in our trraining data as we did not want to train our models to predict the style of Business Insider headlines.<br><br>"
   ]
  },
  {
   "attachments": {},
   "cell_type": "markdown",
   "id": "522f0b9a",
   "metadata": {},
   "source": [
    "# Model Training"
   ]
  },
  {
   "cell_type": "code",
   "execution_count": 7,
   "id": "d0500ff4",
   "metadata": {},
   "outputs": [],
   "source": [
    "import pandas as pd\n",
    "import matplotlib.pyplot as plt\n",
    "import numpy as np\n",
    "import tensorflow as tf\n",
    "import pickle\n",
    "from tensorflow import keras\n",
    "from tensorflow.keras.preprocessing.sequence import pad_sequences\n",
    "from tensorflow.keras.preprocessing.text import Tokenizer\n",
    "from tensorflow.keras.layers import Flatten, MaxPooling1D, Conv1D, Input, Dense, Dropout, Embedding\n",
    "from tensorflow.keras.models import Model\n",
    "from tensorflow.keras.preprocessing.text import Tokenizer\n",
    "from tensorflow.keras.preprocessing.sequence import pad_sequences\n",
    "from sklearn.model_selection import train_test_split\n",
    "import os\n",
    "\n",
    "# silence tensorflow warnings\n",
    "os.environ['TF_CPP_MIN_LOG_LEVEL'] = '3'"
   ]
  },
  {
   "cell_type": "code",
   "execution_count": 8,
   "id": "242c05d7",
   "metadata": {},
   "outputs": [
    {
     "name": "stdout",
     "output_type": "stream",
     "text": [
      "Num GPUs Available:  0\n",
      "Num CPUs Available:  1\n",
      "Tensorflow version: 2.9.1\n",
      "Keras version: 2.9.0\n",
      "No GPU found\n"
     ]
    }
   ],
   "source": [
    "# print Tensorflow and CUDA information\n",
    "print(\"Num GPUs Available: \", len(tf.config.experimental.list_physical_devices('GPU')))\n",
    "print(\"Num CPUs Available: \", len(tf.config.experimental.list_physical_devices('CPU')))\n",
    "print(f\"Tensorflow version: {tf.__version__}\")\n",
    "print(f\"Keras version: {keras.__version__}\")\n",
    " \n",
    "if tf.test.gpu_device_name():\n",
    "    gpu_devices = tf.config.list_physical_devices('GPU')\n",
    "    details = tf.config.experimental.get_device_details(gpu_devices[0])\n",
    "    name = details.get('device_name', 'Unknown GPU')\n",
    "    \n",
    "    print(f\"Using {name}\")\n",
    "else:\n",
    "    print(\"No GPU found\")"
   ]
  },
  {
   "cell_type": "code",
   "execution_count": 9,
   "id": "05e6eeb6",
   "metadata": {},
   "outputs": [],
   "source": [
    "def load_embeddings(filename):\n",
    "    \"\"\"\n",
    "    Load a DataFrame from the generalized text format used by word2vec, GloVe,\n",
    "    fastText, and ConceptNet Numberbatch. The main point where they differ is\n",
    "    whether there is an initial line with the dimensions of the matrix.\n",
    "    \"\"\"\n",
    "    labels = []\n",
    "    rows = []\n",
    "    with open(filename, encoding='utf-8') as infile:\n",
    "        for i, line in enumerate(infile):\n",
    "            items = line.rstrip().split(' ')\n",
    "            if len(items) == 2:\n",
    "                # This is a header row giving the shape of the matrix\n",
    "                continue\n",
    "            labels.append(items[0])\n",
    "            values = np.array([float(x) for x in items[1:]], 'f')\n",
    "            rows.append(values)\n",
    "    \n",
    "    arr = np.vstack(rows)\n",
    "    return pd.DataFrame(arr, index=labels, dtype='f')"
   ]
  },
  {
   "cell_type": "code",
   "execution_count": 10,
   "id": "82cb1fd3",
   "metadata": {},
   "outputs": [
    {
     "name": "stdout",
     "output_type": "stream",
     "text": [
      "Found 12,013 unique tokens. Distilled to 12,013 top words.\n"
     ]
    }
   ],
   "source": [
    "NUM_TOP_WORDS = None # use entire vocabulary!\n",
    "MAX_TITLE_LEN = 32 # maximum number of words\n",
    "NUM_CLASSES = 2\n",
    "\n",
    "\n",
    "# load data\n",
    "labeled_content = pd.read_csv('data/labeled_headlines.csv')\n",
    "labeled_content = labeled_content[labeled_content['score'] != 0]\n",
    "\n",
    "# load embeddings\n",
    "X = labeled_content['title'].astype(str).values\n",
    "y = labeled_content['score'].values\n",
    "\n",
    "# tokenize\n",
    "tokenizer = Tokenizer(\n",
    "                    num_words=NUM_TOP_WORDS,\n",
    "                    filters = '—!\"“”#$%&()*+,-./:;<=>?@[\\\\]^_`{|}~\\t…\\'‘’'\n",
    "                     )\n",
    "tokenizer.fit_on_texts(X)\n",
    "sequences = tokenizer.texts_to_sequences(X)\n",
    "\n",
    "# get word index\n",
    "word_index = tokenizer.word_index\n",
    "NUM_TOP_WORDS = len(word_index) if NUM_TOP_WORDS==None else NUM_TOP_WORDS\n",
    "top_words = min((len(word_index),NUM_TOP_WORDS))\n",
    "\n",
    "# pad sequences\n",
    "X = pad_sequences(sequences, maxlen=MAX_TITLE_LEN)\n",
    "y = np.where(y == -1, 0, 1)\n",
    "\n",
    "print(f\"Found {len(word_index):,} unique tokens. Distilled to {top_words:,} top words.\")"
   ]
  },
  {
   "cell_type": "code",
   "execution_count": 11,
   "id": "2891f9bb",
   "metadata": {},
   "outputs": [],
   "source": [
    "# now fill in the matrix, using the ordering from the\n",
    "# keras word tokenizer from before\n",
    "def generate_embed_matrix(embed):\n",
    "    EMBED_SIZE = embed.shape[1]\n",
    "    found_words = 0\n",
    "    embedding_matrix = np.zeros((len(word_index) + 1, EMBED_SIZE))\n",
    "\n",
    "    for word, i in word_index.items():\n",
    "\n",
    "        try:\n",
    "            embedding_vector = embed.loc[word]\n",
    "            # words not found in embedding index will be ALL-ZEROS\n",
    "            embedding_matrix[i] = embedding_vector\n",
    "            found_words = found_words+1\n",
    "        except:\n",
    "            #print(word)\n",
    "            pass\n",
    "\n",
    "    print(f\"Embedding Shape: {embedding_matrix.shape}\")\n",
    "    print(f\"Total words found: {found_words:,}\")\n",
    "    print(f\"Percentage: {round(100 * found_words / embedding_matrix.shape[0], 2)}\")\n",
    "    \n",
    "    return embedding_matrix"
   ]
  },
  {
   "cell_type": "code",
   "execution_count": 12,
   "id": "7279ade3",
   "metadata": {},
   "outputs": [],
   "source": [
    "#function for generating the model with the embedding matrix\n",
    "def generate_model(embed_matrix):\n",
    "    EMBED_SIZE = embed_matrix.shape[1]\n",
    "    embedding_layer = Embedding(len(word_index) + 1,\n",
    "                                EMBED_SIZE,\n",
    "                                weights=[embed_matrix],# here is the embedding getting saved\n",
    "                                input_length=MAX_TITLE_LEN,\n",
    "                                trainable=False)\n",
    "\n",
    "    # Define the input layer\n",
    "    inputs = Input(shape=(MAX_TITLE_LEN,), dtype=tf.int32)\n",
    "    embedding = embedding_layer(inputs)\n",
    "\n",
    "    # Add a 1D Convolutional layer\n",
    "    x = Conv1D(filters=128, kernel_size=5, activation='relu', kernel_initializer='he_uniform')(embedding)\n",
    "\n",
    "    # Add a Max Pooling layer\n",
    "    x = MaxPooling1D(pool_size=2)(x)\n",
    "\n",
    "    # Flatten the output of\\ the Max Pooling layer\n",
    "    x = Flatten()(x)\n",
    "    x = Dropout(0.10)(x)\n",
    "    x = Dense(units=64, activation='sigmoid')(x)\n",
    "    x = Dense(units=32, activation='sigmoid')(x)\n",
    "\n",
    "    # Add a Dense output layer with a single neuron and a sigmoid activation function\n",
    "    outputs = Dense(units=1, activation='linear')(x)\n",
    "\n",
    "    # Create the model\n",
    "    model = Model(inputs=inputs, outputs=outputs)\n",
    "\n",
    "    # Compile the model\n",
    "    model.compile(optimizer='adam', loss='mse', metrics=['accuracy'])\n",
    "    \n",
    "    return model"
   ]
  },
  {
   "cell_type": "code",
   "execution_count": 13,
   "id": "42636616",
   "metadata": {},
   "outputs": [],
   "source": [
    "# Initially loading in the numberbatch embeddings, time consuming and once loaded in, can be saved to disk\n",
    "# %%time\n",
    "# numberbatch_embeddings = load_embeddings(\"embeddings/numberbatch-en-17.04b.txt\")\n",
    "# numberbatch_embeddings.shape"
   ]
  },
  {
   "cell_type": "code",
   "execution_count": null,
   "id": "49f90e21",
   "metadata": {},
   "outputs": [],
   "source": [
    "#generating the embedding matrix, not necessary to run after saving to disk\n",
    "# numberbatch_embed_matrix = generate_embed_matrix(numberbatch_embeddings)"
   ]
  },
  {
   "cell_type": "code",
   "execution_count": 14,
   "id": "becd8b28",
   "metadata": {},
   "outputs": [],
   "source": [
    "numberbatch_pickle_file = \"embeddings/numberbatch_matrix.pickle\"\n",
    "\n",
    "#save the embedding matrix to disk\n",
    "# with open(numberbatch_pickle_file, 'wb') as f:\n",
    "#     # pickle the embedding matrix\n",
    "#     pickle.dump(numberbatch_embed_matrix, f)\n",
    "#     # print a message to confirm the pickling\n",
    "#     print(f\"Embedding matrix pickled to {numberbatch_pickle_file}\")"
   ]
  },
  {
   "cell_type": "code",
   "execution_count": 15,
   "id": "e5ddfd24",
   "metadata": {},
   "outputs": [
    {
     "name": "stdout",
     "output_type": "stream",
     "text": [
      "Embedding matrix loaded from embeddings/numberbatch_matrix.pickle\n"
     ]
    }
   ],
   "source": [
    "#reading in the embedding matrix from disk\n",
    "with open(numberbatch_pickle_file, 'rb') as f:\n",
    "    # load the pickled embedding matrix\n",
    "    numberbatch_embed_matrix = pickle.load(f)\n",
    "    # print a message to confirm the loading\n",
    "    print(f\"Embedding matrix loaded from {numberbatch_pickle_file}\")"
   ]
  },
  {
   "cell_type": "code",
   "execution_count": 17,
   "id": "f91e2250",
   "metadata": {},
   "outputs": [],
   "source": [
    "#generating the model with the numberbatch embedding matrix\n",
    "numberbatch_model = generate_model(numberbatch_embed_matrix)\n",
    "numberbatch_model.summary()"
   ]
  },
  {
   "cell_type": "code",
   "execution_count": 18,
   "id": "c57384bd",
   "metadata": {},
   "outputs": [
    {
     "name": "stdout",
     "output_type": "stream",
     "text": [
      "X_train shape: (6958, 32)\n",
      "X_test shape: (1740, 32)\n",
      "y_train shape: (6958,)\n",
      "y_test shape: (1740,)\n"
     ]
    }
   ],
   "source": [
    "#splitting the data into train and test sets\n",
    "X_train, X_test, y_train, y_test = train_test_split(X, y, test_size=0.2, stratify=y, random_state=402)\n",
    "print(f\"X_train shape: {X_train.shape}\")\n",
    "print(f\"X_test shape: {X_test.shape}\")\n",
    "print(f\"y_train shape: {y_train.shape}\")\n",
    "print(f\"y_test shape: {y_test.shape}\")"
   ]
  },
  {
   "cell_type": "code",
   "execution_count": 19,
   "id": "c7fb172f",
   "metadata": {},
   "outputs": [],
   "source": [
    "#fitting the model\n",
    "numberbatch_model.fit(X_train, y_train, validation_data=(X_test, y_test), batch_size=2048, epochs=35)"
   ]
  },
  {
   "cell_type": "code",
   "execution_count": 20,
   "id": "ef249eed",
   "metadata": {},
   "outputs": [],
   "source": [
    "#function for plotting the model history\n",
    "def plot_history(history, name=\"Results\"):\n",
    "    # plot f1 score, loss, and accuracy for training and validation together\n",
    "    plt.figure(figsize=(20, 5))\n",
    " \n",
    "    plt.subplot(1,2,1)\n",
    "    plt.plot(history['loss'])\n",
    "    plt.plot(history['val_loss'])\n",
    "    plt.ylabel('Loss')\n",
    "    plt.xlabel('epochs')\n",
    "    plt.title('Loss')\n",
    "    plt.legend(['Train', 'Test'], loc='best')\n",
    " \n",
    "    plt.subplot(1,2,2)\n",
    "    plt.plot(history['accuracy'])\n",
    "    plt.plot(history['val_accuracy'])\n",
    "    plt.ylabel('Accuracy')\n",
    "    plt.xlabel('epochs')\n",
    "    plt.title('Accuracy')\n",
    "    plt.legend(['Train', 'Test'], loc='best')\n",
    " \n",
    "    # set the title for the whole figure\n",
    "    plt.suptitle(name, fontsize=16)\n",
    " \n",
    "    plt.show()"
   ]
  },
  {
   "cell_type": "code",
   "execution_count": 21,
   "id": "c30bac9c",
   "metadata": {},
   "outputs": [
    {
     "ename": "AttributeError",
     "evalue": "'NoneType' object has no attribute 'history'",
     "output_type": "error",
     "traceback": [
      "\u001b[0;31m---------------------------------------------------------------------------\u001b[0m",
      "\u001b[0;31mAttributeError\u001b[0m                            Traceback (most recent call last)",
      "Cell \u001b[0;32mIn [21], line 1\u001b[0m\n\u001b[0;32m----> 1\u001b[0m plot_history(numberbatch_model\u001b[39m.\u001b[39;49mhistory\u001b[39m.\u001b[39;49mhistory)\n",
      "\u001b[0;31mAttributeError\u001b[0m: 'NoneType' object has no attribute 'history'"
     ]
    }
   ],
   "source": [
    "plot_history(numberbatch_model.history.history)"
   ]
  },
  {
   "cell_type": "code",
   "execution_count": null,
   "id": "b02c51ce",
   "metadata": {},
   "outputs": [],
   "source": [
    "# %%time\n",
    "# glove_embeddings = load_embeddings(\"embeddings/glove.840B.300d.txt\")\n",
    "# glove_embeddings.shape"
   ]
  },
  {
   "cell_type": "code",
   "execution_count": 22,
   "id": "857932e1",
   "metadata": {},
   "outputs": [],
   "source": [
    "#glove_embed_matrix = generate_embed_matrix(glove_embeddings)\n",
    "# define the file name for the pickle file\n",
    "\n",
    "glove_pickle_file = \"embeddings/glove_matrix.pickle\"\n",
    "# # open the file for writing in binary mode\n",
    "# with open(glove_pickle_file, 'wb') as f:\n",
    "#     # pickle the embedding matrix\n",
    "#     pickle.dump(embedding_matrix, f)\n",
    "#     # print a message to confirm the pickling\n",
    "#     print(f\"Embedding matrix pickled to {glove_pickle_file}\")"
   ]
  },
  {
   "cell_type": "code",
   "execution_count": 23,
   "id": "680fb6a0",
   "metadata": {},
   "outputs": [
    {
     "name": "stdout",
     "output_type": "stream",
     "text": [
      "Embedding matrix loaded from embeddings/glove_matrix.pickle\n"
     ]
    }
   ],
   "source": [
    "# open the pickle file for reading in binary mode\n",
    "with open(glove_pickle_file, 'rb') as f:\n",
    "    # load the pickled embedding matrix\n",
    "    glove_embed_matrix = pickle.load(f)\n",
    "    # print a message to confirm the loading\n",
    "    print(f\"Embedding matrix loaded from {glove_pickle_file}\")"
   ]
  },
  {
   "cell_type": "code",
   "execution_count": 24,
   "id": "60f91592",
   "metadata": {},
   "outputs": [],
   "source": [
    "glove_model = generate_model(glove_embed_matrix)\n",
    "glove_model.fit(X_train, y_train, validation_data=(X_test, y_test), batch_size=2048, epochs=35)\n",
    "plot_history(glove_model.history.history)"
   ]
  },
  {
   "cell_type": "code",
   "execution_count": 25,
   "id": "4360d3c0",
   "metadata": {},
   "outputs": [],
   "source": [
    "labeled_test = pd.read_csv('data/business_insider_headlines.csv')\n",
    "\n",
    "test = labeled_test['title'].astype(str).values\n",
    "\n",
    "seq = tokenizer.texts_to_sequences(test)\n",
    "test_padded = pad_sequences(seq, maxlen=MAX_TITLE_LEN)"
   ]
  },
  {
   "cell_type": "code",
   "execution_count": null,
   "id": "d99932ab",
   "metadata": {},
   "outputs": [],
   "source": [
    "def plot_distros(test_distribution, neutral_dist, title, color):\n",
    "    plt.figure(figsize=(20, 5))\n",
    "    plt.rcParams.update({'font.size': 14})\n",
    "\n",
    "    plt.subplot(1,2,1)\n",
    "    plt.hist(test_distribution,30,color=color)\n",
    "    plt.xlabel('Polarity of Titles (0 = left, 1 = right)')\n",
    "    plt.ylabel('Number of Titles')\n",
    "    plt.title('X_test')\n",
    "    plt.xlim([-.5, 1.5])\n",
    "\n",
    "    plt.subplot(1,2,2)\n",
    "    plt.hist(neutral_dist,30,color=color)\n",
    "    plt.xlabel('Polarity of Titles (0 = left, 1 = right)')\n",
    "    plt.ylabel('Number of Titles')\n",
    "    plt.title('Buisness Insider')\n",
    "    plt.xlim([-.5, 1.5])\n",
    "\n",
    "    # set the title for the whole figure\n",
    "    plt.suptitle(title, fontsize=20)\n",
    "\n",
    "    plt.show()"
   ]
  },
  {
   "cell_type": "code",
   "execution_count": null,
   "id": "38615850",
   "metadata": {},
   "outputs": [],
   "source": [
    "glove_test_distribution = glove_model.predict(X_test)\n",
    "glove_neutral_dist = glove_model.predict(test_padded)\n",
    "\n",
    "numberbatch_test_distribution = numberbatch_model.predict(X_test)\n",
    "numberbatch_neutral_dist = numberbatch_model.predict(test_padded)\n",
    "\n",
    "plot_distros(glove_test_distribution, glove_neutral_dist,'Glove prediction distrobutions', 'indianred')\n",
    "plot_distros(numberbatch_test_distribution, numberbatch_neutral_dist,'Numberbatch prediction distrobutions', 'steelblue')"
   ]
  },
  {
   "cell_type": "code",
   "execution_count": 30,
   "id": "92350197",
   "metadata": {},
   "outputs": [
    {
     "name": "stdout",
     "output_type": "stream",
     "text": [
      "Test set:\n",
      "Numberbatch mean: 0.5263879\n",
      "Glove mean: 0.49714702\n",
      "Neutral samples:\n",
      "Numberbatch mean: 0.40003216\n",
      "Glove mean: 0.38757804\n"
     ]
    }
   ],
   "source": [
    "# print the mean of the distributions for the test set\n",
    "print(\"Test set:\")\n",
    "print(\"Numberbatch mean: \" + str(numberbatch_test_distribution.mean()))\n",
    "print(\"Glove mean: \" + str(glove_test_distribution.mean()))\n",
    "print()\n",
    "\n",
    "# print the mean of the distributions for the neutral samples\n",
    "print(\"Neutral samples:\")\n",
    "print(\"Numberbatch mean: \" + str(numberbatch_neutral_dist.mean()))\n",
    "print(\"Glove mean: \" + str(glove_neutral_dist.mean()))"
   ]
  },
  {
   "attachments": {},
   "cell_type": "markdown",
   "id": "9f82f49f",
   "metadata": {},
   "source": [
    "When used on the test set both models hover close to the neurtral value of .5, although the numberbatch model leans slightly closer to Fox News. An ideal model without any embedding bias and perfect accuracy would sit at exactly .5 \n",
    "\n",
    "In order to detect bias in the embeddings we tested the models on titles that came form a news source that is not known to have a strong lean left or right. In the paper we used to select Vox and Fox, Buisness Insider was shown to be a mostly neutral media outlet and lie exactly between the other two outlets.\n",
    "\n",
    "When tested on the supposedly unbiased titles from Buisness Insider the models center around about .395. This says more about the leaning of Buisness Insider titles than the bias in the underlying embeddings. Notably though, the numberbatch model still tends slightly further right."
   ]
  },
  {
   "cell_type": "code",
   "execution_count": 46,
   "id": "783e2c01",
   "metadata": {},
   "outputs": [],
   "source": [
    "labeled_expert = pd.read_csv('data/expert_neutral_headlines.csv')\n",
    "\n",
    "print('Number of expertly selected headlines: ' + str(labeled_expert.shape[0]))\n",
    "\n",
    "titles = labeled_expert['title'].astype(str).values\n",
    "\n",
    "seq = tokenizer.texts_to_sequences(titles)\n",
    "expert_padded = pad_sequences(seq, maxlen=MAX_TITLE_LEN)"
   ]
  },
  {
   "attachments": {},
   "cell_type": "markdown",
   "id": "11af0863",
   "metadata": {},
   "source": [
    "In order to be sure of the bias in the embeddings, we selected 100 headlines covering a variety of topics that had no discernible bias to them. Although some of the title subjects are politicly charged issuses, the headlines themselves do not have a clear bias to them one way or the other. By examining the models on this set of titles we can independntly confirm that any biases attached to these true neutral titles comes from the embeddings."
   ]
  },
  {
   "cell_type": "code",
   "execution_count": 37,
   "id": "c5a17edf",
   "metadata": {},
   "outputs": [
    {
     "name": "stdout",
     "output_type": "stream",
     "text": [
      "500/500 [==============================] - 2s 3ms/step\n"
     ]
    },
    {
     "data": {
      "image/png": "[encoded data removed]",
      "text/plain": [
       "<Figure size 640x480 with 1 Axes>"
      ]
     },
     "metadata": {},
     "output_type": "display_data"
    }
   ],
   "source": [
    "numberbatch_expert_neutral = numberbatch_model.predict(expert_padded)\n",
    "glove_expert_neutral = glove_model.predict(expert_padded)\n",
    "\n",
    "plt.figure(figsize=(20, 5))\n",
    "plt.rcParams.update({'font.size': 14})\n",
    "\n",
    "plt.subplot(1,2,1)\n",
    "plt.hist(numberbatch_expert_neutral,bins=12,color='indianred')\n",
    "plt.xlabel('Polarity of Titles (0 = left, 1 = right)')\n",
    "plt.ylabel('Number of Titles')\n",
    "plt.title('Numberbatch')\n",
    "plt.xlim([-.75, 1.75])\n",
    "\n",
    "plt.subplot(1,2,2)\n",
    "plt.hist(glove_expert_neutral,bins=8,color='steelblue')\n",
    "plt.xlabel('Polarity of Titles (0 = left, 1 = right)')\n",
    "plt.ylabel('Number of Titles')\n",
    "plt.title('GloVe')\n",
    "plt.xlim([-.75, 1.75])\n",
    "\n",
    "# set the title for the whole figure\n",
    "plt.suptitle('Expert Selected Title', fontsize=20)\n",
    "\n",
    "plt.show()"
   ]
  },
  {
   "cell_type": "code",
   "execution_count": 38,
   "id": "23b374fa",
   "metadata": {},
   "outputs": [
    {
     "name": "stdout",
     "output_type": "stream",
     "text": [
      "Numberbatch mean: 0.40003216\n",
      "Glove mean: 0.38757804\n"
     ]
    }
   ],
   "source": [
    "print(\"Numberbatch mean: \" + str(numberbatch_expert_neutral.mean()))\n",
    "print(\"Glove mean: \" + str(glove_expert_neutral.mean()))"
   ]
  },
  {
   "attachments": {},
   "cell_type": "markdown",
   "id": "b37c9a20",
   "metadata": {},
   "source": [
    "When we try to explicitly select titles without bias the predicted leaning from both embeddings is revealed to be even further left."
   ]
  },
  {
   "cell_type": "code",
   "execution_count": null,
   "id": "a47a0f27",
   "metadata": {},
   "outputs": [],
   "source": [
    "def predict_text(text):\n",
    "    print(text)\n",
    "    tts = tokenizer.texts_to_sequences([text])\n",
    "    padded = pad_sequences(tts, maxlen=MAX_TITLE_LEN)\n",
    "    \n",
    "    number = numberbatch_model.predict(padded)\n",
    "    glove = glove_model.predict(padded)\n",
    "        \n",
    "    print(f'The predicted Numberbatch polarity is: {round(float(number[0][0]), 4)}')\n",
    "    print(f'The predicted GloVe polarity is:       {round(float(glove[0][0]), 4)}')\n",
    "    print()"
   ]
  },
  {
   "cell_type": "code",
   "execution_count": null,
   "id": "1cecd1d4",
   "metadata": {},
   "outputs": [],
   "source": [
    "predict_text(\"A single payer healthcare is neccisary to help the poor\")\n",
    "predict_text(\"US special ops carry out raid deep inside ISIS territory and murder evil terroists\")"
   ]
  },
  {
   "attachments": {},
   "cell_type": "markdown",
   "id": "f1ad66af",
   "metadata": {},
   "source": [
    "Here the models are shown to correctly predict clearly biased headlines, but this is not always the case. We asked ChatGPT to generate polarizing headlines and the used our models to predict the polarity."
   ]
  },
  {
   "cell_type": "code",
   "execution_count": null,
   "id": "03d51b89",
   "metadata": {},
   "outputs": [],
   "source": [
    "far_left_headlines = [\n",
    "    \"Progressives demand sweeping police reform, including defunding and demilitarization\",\n",
    "    \"Democratic lawmakers push for universal healthcare as a basic human right\",\n",
    "    \"Green New Deal advocates call for massive government investment in renewable energy\",\n",
    "    \"Abolish ICE activists rally against immigration policies that they say are inhumane\",\n",
    "    \"Anti-racism protesters demand an end to systemic racism and police brutality\",\n",
    "    \"LGBTQ advocates push for comprehensive protections against discrimination\",\n",
    "    \"Socialists call for a complete overhaul of the capitalist system\",\n",
    "    \"Advocates for reproductive rights fight for abortion access and comprehensive sex education\",\n",
    "    \"Anti-war protesters demand an end to U.S. military intervention overseas\",\n",
    "    \"Intersectional feminists call for a more inclusive and equitable society\"\n",
    "]\n",
    "\n",
    "far_right_headlines = [\n",
    "    \"Conservatives push back against 'cancel culture' and political correctness run amok\",\n",
    "    \"Republican lawmakers vow to protect Second Amendment rights amid gun control push\",\n",
    "    \"MAGA supporters reject the results of the 2020 election, allege widespread voter fraud\",\n",
    "    \"Pro-life activists call for an end to abortion and defunding of Planned Parenthood\",\n",
    "    \"Nationalist groups decry open borders and advocate for strict immigration controls\",\n",
    "    \"Pro-gun activists defend the right to bear arms as a fundamental American freedom\",\n",
    "    \"Trump supporters call for a return to traditional American values and 'Make America Great Again'\",\n",
    "    \"Far-right extremists organize against perceived threats to white identity and Western culture\",\n",
    "    \"Anti-tax conservatives rally against what they see as overreaching government regulation\",\n",
    "    \"Religious conservatives push for a return to traditional gender roles and family values\"\n",
    "]\n",
    "\n",
    "polarizing_headlines = far_left_headlines + far_right_headlines\n",
    "\n",
    "for headline in polarizing_headlines:\n",
    "    predict_text(headline)"
   ]
  },
  {
   "attachments": {},
   "cell_type": "markdown",
   "id": "d0868070",
   "metadata": {},
   "source": [
    "The model seems rightly deviceive about many of these headlines also it is not uncommon that it overshoots in the wrong direction. While providing an interseting insight into the models it fails to reavel any clear understanding in the embedding biases."
   ]
  },
  {
   "cell_type": "code",
   "execution_count": null,
   "id": "c32691fd",
   "metadata": {},
   "outputs": [],
   "source": [
    "predict_text(\"Love peace and truth\")\n",
    "predict_text(\"The sky is blue\")\n",
    "predict_text(\"Today is a good day to take a walk\")\n",
    "predict_text(\"We now take a minute to mourn the loss of our loved ones\")\n",
    "predict_text(\"technology\")\n",
    "predict_text(\"School\")\n",
    "predict_text(\"Work\")\n",
    "predict_text(\"The end of the world is near. Run for your lives!\")"
   ]
  },
  {
   "attachments": {},
   "cell_type": "markdown",
   "id": "13c983a5",
   "metadata": {},
   "source": [
    "While exploring the output on more mundane prompts may be less applicable as they do not match the format of any trained data, they do reveal some more about the underlying biases. Almost all of these prompts get mild to strong left predictions by both models. Additioally Numberbatch is consistantly predicts more left than GloVe"
   ]
  },
  {
   "attachments": {},
   "cell_type": "markdown",
   "id": "09a67d10",
   "metadata": {},
   "source": [
    "# Works Cited\n",
    "[*On the Dangers of Stochastic Parrots: Can Language Models Be Too Big? 🦜*](https://doi.org/10.1145/3442188.3445922).<br>\n",
    "&nbsp;&nbsp;&nbsp;&nbsp;Bender, Emily M. and Gebru, Timnit and McMillan-Major, Angelina and Shmitchell, Shmargaret. Proceedings of the 2021 ACM Conference on Fairness, Accountability, and Transparency, 2021.<br><br>\n",
    "\n",
    "[*Auditing Partisan Audience Bias within Google Search*](https://doi.org/10.1145/3274417).<br>\n",
    "&nbsp;&nbsp;&nbsp;&nbsp;Robertson, Ronald E. and Jiang, Shan and Joseph, Kenneth and Friedland, Lisa and Lazer, David and Wilson, Christo. Proc. ACM Hum.-Comput. Interact., 2018.<br><br>\n",
    "\n",
    "Kaggle Dataset: [*All the news*](https://www.kaggle.com/datasets/snapcrack/all-the-news).<br>\n",
    "\n",
    "\n"
   ]
  },
  {
   "attachments": {},
   "cell_type": "markdown",
   "id": "3e2e0fce",
   "metadata": {},
   "source": [
    "# Conferences/Journals that may be interested in this work\n",
    "\n",
    "**FAccT: Fairness, Accountability, and Transparency at ACM** may be interested in this work as mitigating bias is relevant to their work. <br>\n",
    "\n",
    "**Journal of Digital Humanities** may also be interested in our work as it related to understanding political bias in text which is relevant to their work in digital history. <br>"
   ]
  },
  {
   "cell_type": "markdown",
   "id": "36817ded",
   "metadata": {},
   "source": []
  }
 ],
 "metadata": {
  "kernelspec": {
   "display_name": "Python 3 (ipykernel)",
   "language": "python",
   "name": "python3"
  },
  "language_info": {
   "codemirror_mode": {
    "name": "ipython",
    "version": 3
   },
   "file_extension": ".py",
   "mimetype": "text/x-python",
   "name": "python",
   "nbconvert_exporter": "python",
   "pygments_lexer": "ipython3",
   "version": "3.7.16"
  },
  "vscode": {
   "interpreter": {
    "hash": "6a1050e2122e884fbd860fdaaf0e2e33dae28e650b3a562ded380d467581c803"
   }
  }
 },
 "nbformat": 4,
 "nbformat_minor": 5
}
